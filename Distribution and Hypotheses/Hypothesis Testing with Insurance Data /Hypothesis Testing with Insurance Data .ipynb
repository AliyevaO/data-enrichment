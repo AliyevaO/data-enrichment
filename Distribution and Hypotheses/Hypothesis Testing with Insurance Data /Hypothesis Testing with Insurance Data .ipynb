{
 "cells": [
  {
   "cell_type": "markdown",
   "id": "6614efb8",
   "metadata": {},
   "source": [
    "* Oleksandra Aliyeva\n",
    "* May 2022"
   ]
  },
  {
   "cell_type": "markdown",
   "id": "81b22150",
   "metadata": {},
   "source": [
    "We have been asked to use our hypothesis testing skills to answer the following questions:\n",
    "\n",
    "- Q1. Do smokers have higher insurance charges than non-smokers?\n",
    "- Q2. Are men more likely to smoke than women?\n",
    "- Q3. Do different regions have different charges, on average?\n",
    "\n",
    "\n",
    "\n",
    "For each question, make sure to:\n",
    "\n",
    "1. State your Null Hypothesis and Alternative Hypothesis\n",
    "2. Select the correct test according to the data type and number of samples\n",
    "3. Test the assumptions of your selected test.\n",
    "4. Execute the selected test, or the alternative test (if you do not meet the assumptions)\n",
    "5. Interpret your p-value and reject or fail to reject your null hypothesis \n",
    "6. Show a supporting visualization that helps display the result\n"
   ]
  },
  {
   "cell_type": "code",
   "execution_count": 2,
   "id": "586ea0ba",
   "metadata": {},
   "outputs": [],
   "source": [
    "import pandas as pd\n",
    "import numpy as np\n",
    "import seaborn as sns\n",
    "import matplotlib.pyplot as plt\n",
    "import scipy.stats as stats"
   ]
  },
  {
   "cell_type": "code",
   "execution_count": 3,
   "id": "06f37255",
   "metadata": {},
   "outputs": [
    {
     "data": {
      "text/html": [
       "<div>\n",
       "<style scoped>\n",
       "    .dataframe tbody tr th:only-of-type {\n",
       "        vertical-align: middle;\n",
       "    }\n",
       "\n",
       "    .dataframe tbody tr th {\n",
       "        vertical-align: top;\n",
       "    }\n",
       "\n",
       "    .dataframe thead th {\n",
       "        text-align: right;\n",
       "    }\n",
       "</style>\n",
       "<table border=\"1\" class=\"dataframe\">\n",
       "  <thead>\n",
       "    <tr style=\"text-align: right;\">\n",
       "      <th></th>\n",
       "      <th>age</th>\n",
       "      <th>sex</th>\n",
       "      <th>bmi</th>\n",
       "      <th>children</th>\n",
       "      <th>smoker</th>\n",
       "      <th>region</th>\n",
       "      <th>charges</th>\n",
       "    </tr>\n",
       "  </thead>\n",
       "  <tbody>\n",
       "    <tr>\n",
       "      <th>0</th>\n",
       "      <td>19</td>\n",
       "      <td>female</td>\n",
       "      <td>27.900</td>\n",
       "      <td>0</td>\n",
       "      <td>yes</td>\n",
       "      <td>southwest</td>\n",
       "      <td>16884.92400</td>\n",
       "    </tr>\n",
       "    <tr>\n",
       "      <th>1</th>\n",
       "      <td>18</td>\n",
       "      <td>male</td>\n",
       "      <td>33.770</td>\n",
       "      <td>1</td>\n",
       "      <td>no</td>\n",
       "      <td>southeast</td>\n",
       "      <td>1725.55230</td>\n",
       "    </tr>\n",
       "    <tr>\n",
       "      <th>2</th>\n",
       "      <td>28</td>\n",
       "      <td>male</td>\n",
       "      <td>33.000</td>\n",
       "      <td>3</td>\n",
       "      <td>no</td>\n",
       "      <td>southeast</td>\n",
       "      <td>4449.46200</td>\n",
       "    </tr>\n",
       "    <tr>\n",
       "      <th>3</th>\n",
       "      <td>33</td>\n",
       "      <td>male</td>\n",
       "      <td>22.705</td>\n",
       "      <td>0</td>\n",
       "      <td>no</td>\n",
       "      <td>northwest</td>\n",
       "      <td>21984.47061</td>\n",
       "    </tr>\n",
       "    <tr>\n",
       "      <th>4</th>\n",
       "      <td>32</td>\n",
       "      <td>male</td>\n",
       "      <td>28.880</td>\n",
       "      <td>0</td>\n",
       "      <td>no</td>\n",
       "      <td>northwest</td>\n",
       "      <td>3866.85520</td>\n",
       "    </tr>\n",
       "  </tbody>\n",
       "</table>\n",
       "</div>"
      ],
      "text/plain": [
       "   age     sex     bmi  children smoker     region      charges\n",
       "0   19  female  27.900         0    yes  southwest  16884.92400\n",
       "1   18    male  33.770         1     no  southeast   1725.55230\n",
       "2   28    male  33.000         3     no  southeast   4449.46200\n",
       "3   33    male  22.705         0     no  northwest  21984.47061\n",
       "4   32    male  28.880         0     no  northwest   3866.85520"
      ]
     },
     "execution_count": 3,
     "metadata": {},
     "output_type": "execute_result"
    }
   ],
   "source": [
    "df = pd.read_csv('insurance - insurance.csv')\n",
    "df.head()"
   ]
  },
  {
   "cell_type": "code",
   "execution_count": 4,
   "id": "a76fb0f8",
   "metadata": {},
   "outputs": [
    {
     "name": "stdout",
     "output_type": "stream",
     "text": [
      "<class 'pandas.core.frame.DataFrame'>\n",
      "RangeIndex: 1338 entries, 0 to 1337\n",
      "Data columns (total 7 columns):\n",
      " #   Column    Non-Null Count  Dtype  \n",
      "---  ------    --------------  -----  \n",
      " 0   age       1338 non-null   int64  \n",
      " 1   sex       1338 non-null   object \n",
      " 2   bmi       1338 non-null   float64\n",
      " 3   children  1338 non-null   int64  \n",
      " 4   smoker    1338 non-null   object \n",
      " 5   region    1338 non-null   object \n",
      " 6   charges   1338 non-null   float64\n",
      "dtypes: float64(2), int64(2), object(3)\n",
      "memory usage: 73.3+ KB\n"
     ]
    }
   ],
   "source": [
    "df.info()"
   ]
  },
  {
   "cell_type": "markdown",
   "id": "a88e6619",
   "metadata": {},
   "source": [
    "**Q1. Do smokers have higher insurance charges than non-smokers?**\n",
    "* Null Hypothesis: smokers and non-smokers have the same insurance charges. \n",
    "* Alternative Hypothesis: smokers have higher insurance charges than non-smokers."
   ]
  },
  {
   "cell_type": "markdown",
   "id": "e020db28",
   "metadata": {},
   "source": [
    "**T-Tests** for this hypothesis"
   ]
  },
  {
   "cell_type": "code",
   "execution_count": 5,
   "id": "4e5428df",
   "metadata": {},
   "outputs": [
    {
     "name": "stdout",
     "output_type": "stream",
     "text": [
      "For Smokers (n=274): Mean=32050.23\n",
      "For Non-Smokers (n=1064): Mean=8434.27\n"
     ]
    }
   ],
   "source": [
    "#do we need to creat a sample??????\n",
    "smoker_charges = df.loc[df['smoker']=='yes','charges']\n",
    "non_smoker_charges = df.loc[df['smoker']=='no','charges']\n",
    "\n",
    "#getting means for smoker and non-smoker charges\n",
    "print(f\"For Smokers (n={len(smoker_charges)}): Mean={np.mean(smoker_charges):.2f}\")\n",
    "print(f\"For Non-Smokers (n={len(non_smoker_charges)}): Mean={np.mean(non_smoker_charges):.2f}\")"
   ]
  },
  {
   "cell_type": "code",
   "execution_count": 6,
   "id": "906e3e09",
   "metadata": {},
   "outputs": [
    {
     "data": {
      "text/plain": [
       "24"
      ]
     },
     "execution_count": 6,
     "metadata": {},
     "output_type": "execute_result"
    }
   ],
   "source": [
    "#check for outliers\n",
    "zscores_f = stats.zscore(non_smoker_charges)\n",
    "outliers_f = abs(zscores_f)>3\n",
    "np.sum(outliers_f)"
   ]
  },
  {
   "cell_type": "code",
   "execution_count": 7,
   "id": "fe30e254",
   "metadata": {},
   "outputs": [
    {
     "data": {
      "text/plain": [
       "1040"
      ]
     },
     "execution_count": 7,
     "metadata": {},
     "output_type": "execute_result"
    }
   ],
   "source": [
    "#drop outliers\n",
    "non_smoker_charges = non_smoker_charges[(np.abs(stats.zscore(non_smoker_charges))<3)]\n",
    "len(non_smoker_charges)"
   ]
  },
  {
   "cell_type": "code",
   "execution_count": 8,
   "id": "c42036d6",
   "metadata": {},
   "outputs": [
    {
     "data": {
      "text/plain": [
       "0"
      ]
     },
     "execution_count": 8,
     "metadata": {},
     "output_type": "execute_result"
    }
   ],
   "source": [
    "#check for outliers\n",
    "zscores_f = stats.zscore(smoker_charges)\n",
    "outliers_f = abs(zscores_f)>3\n",
    "np.sum(outliers_f)"
   ]
  },
  {
   "cell_type": "code",
   "execution_count": 9,
   "id": "bd668800",
   "metadata": {},
   "outputs": [
    {
     "data": {
      "text/plain": [
       "NormaltestResult(statistic=163.80367047789198, pvalue=2.6945416315543976e-36)"
      ]
     },
     "execution_count": 9,
     "metadata": {},
     "output_type": "execute_result"
    }
   ],
   "source": [
    "#check normality non_smoker_charges\n",
    "result_m = stats.normaltest(non_smoker_charges)\n",
    "result_m"
   ]
  },
  {
   "cell_type": "code",
   "execution_count": 10,
   "id": "ebc0ef62",
   "metadata": {},
   "outputs": [
    {
     "data": {
      "text/plain": [
       "NormaltestResult(statistic=61.03941356533816, pvalue=5.564930630036463e-14)"
      ]
     },
     "execution_count": 10,
     "metadata": {},
     "output_type": "execute_result"
    }
   ],
   "source": [
    "#check normality smoker_charges\n",
    "result_m = stats.normaltest(smoker_charges)\n",
    "result_m"
   ]
  },
  {
   "cell_type": "code",
   "execution_count": null,
   "id": "c50f9f67",
   "metadata": {},
   "outputs": [],
   "source": [
    "#not normal distribution???????\n"
   ]
  },
  {
   "cell_type": "code",
   "execution_count": 11,
   "id": "d129bfea",
   "metadata": {},
   "outputs": [
    {
     "data": {
      "text/plain": [
       "LeveneResult(statistic=520.7468821724297, pvalue=2.4247238784347824e-97)"
      ]
     },
     "execution_count": 11,
     "metadata": {},
     "output_type": "execute_result"
    }
   ],
   "source": [
    "#check for variences\n",
    "result = stats.levene(non_smoker_charges, smoker_charges)\n",
    "result\n",
    "#?????"
   ]
  },
  {
   "cell_type": "code",
   "execution_count": 12,
   "id": "a4b60782",
   "metadata": {},
   "outputs": [
    {
     "data": {
      "text/plain": [
       "Ttest_indResult(statistic=-51.2078044173717, pvalue=3.68768124e-315)"
      ]
     },
     "execution_count": 12,
     "metadata": {},
     "output_type": "execute_result"
    }
   ],
   "source": [
    "## Final t-test, after confirming we meet the assumptions\n",
    "result = stats.ttest_ind(non_smoker_charges, smoker_charges)\n",
    "result\n",
    "#????"
   ]
  },
  {
   "cell_type": "code",
   "execution_count": 13,
   "id": "c9699857",
   "metadata": {},
   "outputs": [
    {
     "name": "stdout",
     "output_type": "stream",
     "text": [
      "p-value=0.0000000000\n",
      "Significant: True\n"
     ]
    }
   ],
   "source": [
    "## check if my result is significant\n",
    "print(f\"p-value={result.pvalue:.10f}\")\n",
    "print(f\"Significant: {result.pvalue <.05}\")"
   ]
  },
  {
   "cell_type": "code",
   "execution_count": null,
   "id": "ae73691f",
   "metadata": {},
   "outputs": [],
   "source": []
  },
  {
   "cell_type": "code",
   "execution_count": null,
   "id": "a57a5538",
   "metadata": {},
   "outputs": [],
   "source": []
  },
  {
   "cell_type": "code",
   "execution_count": null,
   "id": "8630d349",
   "metadata": {},
   "outputs": [],
   "source": []
  },
  {
   "cell_type": "markdown",
   "id": "2247239b",
   "metadata": {},
   "source": [
    "**Q2. Are men more likely to smoke than women?**\n",
    "* Null Hypothesis: men and woman have the same chances of being a smoker. \n",
    "* Alternative Hypothesis: men more likely to smoke than women."
   ]
  },
  {
   "cell_type": "code",
   "execution_count": null,
   "id": "36b5d6f7",
   "metadata": {},
   "outputs": [],
   "source": []
  },
  {
   "cell_type": "code",
   "execution_count": null,
   "id": "9908d756",
   "metadata": {},
   "outputs": [],
   "source": []
  },
  {
   "cell_type": "markdown",
   "id": "6b4ca39d",
   "metadata": {},
   "source": [
    "**Q3. Do different regions have different charges, on average?**\n",
    "* Null Hypothesis: on average all regions have the same charges. \n",
    "* Alternative Hypothesis: different regions have different charges, on average."
   ]
  },
  {
   "cell_type": "code",
   "execution_count": 14,
   "id": "7b348314",
   "metadata": {},
   "outputs": [
    {
     "data": {
      "text/plain": [
       "southeast    364\n",
       "southwest    325\n",
       "northwest    325\n",
       "northeast    324\n",
       "Name: region, dtype: int64"
      ]
     },
     "execution_count": 14,
     "metadata": {},
     "output_type": "execute_result"
    }
   ],
   "source": [
    "#check number of regions\n",
    "df['region'].value_counts()"
   ]
  },
  {
   "cell_type": "code",
   "execution_count": null,
   "id": "6ebd1148",
   "metadata": {},
   "outputs": [],
   "source": []
  }
 ],
 "metadata": {
  "kernelspec": {
   "display_name": "Python (dojo-env)",
   "language": "python",
   "name": "dojo-env"
  },
  "language_info": {
   "codemirror_mode": {
    "name": "ipython",
    "version": 3
   },
   "file_extension": ".py",
   "mimetype": "text/x-python",
   "name": "python",
   "nbconvert_exporter": "python",
   "pygments_lexer": "ipython3",
   "version": "3.7.12"
  },
  "toc": {
   "base_numbering": 1,
   "nav_menu": {},
   "number_sections": true,
   "sideBar": true,
   "skip_h1_title": false,
   "title_cell": "Table of Contents",
   "title_sidebar": "Contents",
   "toc_cell": false,
   "toc_position": {},
   "toc_section_display": true,
   "toc_window_display": false
  }
 },
 "nbformat": 4,
 "nbformat_minor": 5
}
